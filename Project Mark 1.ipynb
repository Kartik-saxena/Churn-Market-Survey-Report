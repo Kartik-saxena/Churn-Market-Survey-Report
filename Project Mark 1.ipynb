{
 "cells": [
  {
   "cell_type": "code",
   "execution_count": 1,
   "metadata": {},
   "outputs": [
    {
     "name": "stderr",
     "output_type": "stream",
     "text": [
      "Using TensorFlow backend.\n"
     ]
    }
   ],
   "source": [
    "import os\n",
    "import pandas as pd\n",
    "import numpy as np\n",
    "import sklearn as sl\n",
    "import keras\n"
   ]
  },
  {
   "cell_type": "code",
   "execution_count": 2,
   "metadata": {},
   "outputs": [],
   "source": [
    "os.chdir('G:\\\\Machine learning\\\\capstone')"
   ]
  },
  {
   "cell_type": "code",
   "execution_count": 192,
   "metadata": {},
   "outputs": [],
   "source": [
    "data = pd.read_csv('sampletelecomfinal.csv')"
   ]
  },
  {
   "cell_type": "code",
   "execution_count": 4,
   "metadata": {},
   "outputs": [
    {
     "data": {
      "text/plain": [
       "(13259, 79)"
      ]
     },
     "execution_count": 4,
     "metadata": {},
     "output_type": "execute_result"
    }
   ],
   "source": [
    "data.shape"
   ]
  },
  {
   "cell_type": "code",
   "execution_count": 119,
   "metadata": {},
   "outputs": [
    {
     "data": {
      "text/plain": [
       "Index(['income', 'dwlltype', 'dwllsize', 'mailordr', 'occu1', 'numbcars',\n",
       "       'retdays', 'wrkwoman', 'solflag', 'proptype', 'mailresp', 'cartype',\n",
       "       'children', 'div_type'],\n",
       "      dtype='object')"
      ]
     },
     "execution_count": 119,
     "metadata": {},
     "output_type": "execute_result"
    }
   ],
   "source": [
    "data.isnull().sum()[data.isnull().sum()>2000].index"
   ]
  },
  {
   "cell_type": "code",
   "execution_count": 355,
   "metadata": {},
   "outputs": [],
   "source": [
    "data1 = data.drop(data.isnull().sum()[data.isnull().sum()>2000].index,axis=1) \n",
    "#such a large percentage of missing values (>2000) should not be estimated, so dropped."
   ]
  },
  {
   "cell_type": "code",
   "execution_count": 208,
   "metadata": {},
   "outputs": [
    {
     "data": {
      "text/plain": [
       "Series([], dtype: int64)"
      ]
     },
     "execution_count": 208,
     "metadata": {},
     "output_type": "execute_result"
    }
   ],
   "source": [
    "data1.isnull().sum()[data1.isnull().sum() != 0]"
   ]
  },
  {
   "cell_type": "code",
   "execution_count": null,
   "metadata": {},
   "outputs": [],
   "source": [
    "# Removing unnecessary features (features which have consistent values) and NA fields"
   ]
  },
  {
   "cell_type": "code",
   "execution_count": 356,
   "metadata": {},
   "outputs": [],
   "source": [
    "\n",
    "data1.drop(['change_mou','Customer_ID','csa'], inplace = True, axis = 1)"
   ]
  },
  {
   "cell_type": "code",
   "execution_count": 357,
   "metadata": {},
   "outputs": [],
   "source": [
    "data1 = data1.dropna(subset = ['marital','area','avg6mou','mou_Mean'])"
   ]
  },
  {
   "cell_type": "code",
   "execution_count": 358,
   "metadata": {},
   "outputs": [],
   "source": [
    "data1['overage_rev_ratio'] = data1['ovrrev_Mean']/ data1['totrev']"
   ]
  },
  {
   "cell_type": "code",
   "execution_count": 359,
   "metadata": {},
   "outputs": [],
   "source": [
    "data1['mou_minute_n'] = data1['mou_Mean']/data1['mou_Range']"
   ]
  },
  {
   "cell_type": "code",
   "execution_count": 360,
   "metadata": {},
   "outputs": [],
   "source": [
    "data1 = data1.replace(np.inf, np.nan)"
   ]
  },
  {
   "cell_type": "code",
   "execution_count": 361,
   "metadata": {},
   "outputs": [],
   "source": [
    "data1.drop(['ovrrev_Mean','rev_Range','mou_Range','drop_vce_Range','datovr_Range'],inplace = True, axis=1)"
   ]
  },
  {
   "cell_type": "code",
   "execution_count": 362,
   "metadata": {},
   "outputs": [],
   "source": [
    "data1 = data1.dropna(subset = ['mou_minute_n'])"
   ]
  },
  {
   "cell_type": "code",
   "execution_count": 63,
   "metadata": {},
   "outputs": [
    {
     "data": {
      "text/html": [
       "<div>\n",
       "<style scoped>\n",
       "    .dataframe tbody tr th:only-of-type {\n",
       "        vertical-align: middle;\n",
       "    }\n",
       "\n",
       "    .dataframe tbody tr th {\n",
       "        vertical-align: top;\n",
       "    }\n",
       "\n",
       "    .dataframe thead th {\n",
       "        text-align: right;\n",
       "    }\n",
       "</style>\n",
       "<table border=\"1\" class=\"dataframe\">\n",
       "  <thead>\n",
       "    <tr style=\"text-align: right;\">\n",
       "      <th></th>\n",
       "      <th>count</th>\n",
       "      <th>unique</th>\n",
       "      <th>top</th>\n",
       "      <th>freq</th>\n",
       "    </tr>\n",
       "    <tr>\n",
       "      <th>hnd_webcap</th>\n",
       "      <th></th>\n",
       "      <th></th>\n",
       "      <th></th>\n",
       "      <th></th>\n",
       "    </tr>\n",
       "  </thead>\n",
       "  <tbody>\n",
       "    <tr>\n",
       "      <th>UNKW</th>\n",
       "      <td>37</td>\n",
       "      <td>1</td>\n",
       "      <td>UNKW</td>\n",
       "      <td>37</td>\n",
       "    </tr>\n",
       "    <tr>\n",
       "      <th>WC</th>\n",
       "      <td>1670</td>\n",
       "      <td>1</td>\n",
       "      <td>WC</td>\n",
       "      <td>1670</td>\n",
       "    </tr>\n",
       "    <tr>\n",
       "      <th>WCMB</th>\n",
       "      <td>9729</td>\n",
       "      <td>1</td>\n",
       "      <td>WCMB</td>\n",
       "      <td>9729</td>\n",
       "    </tr>\n",
       "  </tbody>\n",
       "</table>\n",
       "</div>"
      ],
      "text/plain": [
       "           count unique   top  freq\n",
       "hnd_webcap                         \n",
       "UNKW          37      1  UNKW    37\n",
       "WC          1670      1    WC  1670\n",
       "WCMB        9729      1  WCMB  9729"
      ]
     },
     "execution_count": 63,
     "metadata": {},
     "output_type": "execute_result"
    }
   ],
   "source": [
    "data1.groupby('hnd_webcap')['hnd_webcap'].describe()"
   ]
  },
  {
   "cell_type": "code",
   "execution_count": 363,
   "metadata": {},
   "outputs": [],
   "source": [
    "data1.drop(['hnd_webcap'], inplace = True, axis = 1)\n",
    "# Most of them belong to WCMB, less variance so not much usefull"
   ]
  },
  {
   "cell_type": "code",
   "execution_count": 65,
   "metadata": {},
   "outputs": [
    {
     "data": {
      "text/html": [
       "<div>\n",
       "<style scoped>\n",
       "    .dataframe tbody tr th:only-of-type {\n",
       "        vertical-align: middle;\n",
       "    }\n",
       "\n",
       "    .dataframe tbody tr th {\n",
       "        vertical-align: top;\n",
       "    }\n",
       "\n",
       "    .dataframe thead th {\n",
       "        text-align: right;\n",
       "    }\n",
       "</style>\n",
       "<table border=\"1\" class=\"dataframe\">\n",
       "  <thead>\n",
       "    <tr style=\"text-align: right;\">\n",
       "      <th></th>\n",
       "      <th>count</th>\n",
       "      <th>unique</th>\n",
       "      <th>top</th>\n",
       "      <th>freq</th>\n",
       "    </tr>\n",
       "    <tr>\n",
       "      <th>prizm_social_one</th>\n",
       "      <th></th>\n",
       "      <th></th>\n",
       "      <th></th>\n",
       "      <th></th>\n",
       "    </tr>\n",
       "  </thead>\n",
       "  <tbody>\n",
       "    <tr>\n",
       "      <th>C</th>\n",
       "      <td>2144</td>\n",
       "      <td>1</td>\n",
       "      <td>C</td>\n",
       "      <td>2144</td>\n",
       "    </tr>\n",
       "    <tr>\n",
       "      <th>R</th>\n",
       "      <td>619</td>\n",
       "      <td>1</td>\n",
       "      <td>R</td>\n",
       "      <td>619</td>\n",
       "    </tr>\n",
       "    <tr>\n",
       "      <th>S</th>\n",
       "      <td>4087</td>\n",
       "      <td>1</td>\n",
       "      <td>S</td>\n",
       "      <td>4087</td>\n",
       "    </tr>\n",
       "    <tr>\n",
       "      <th>T</th>\n",
       "      <td>1890</td>\n",
       "      <td>1</td>\n",
       "      <td>T</td>\n",
       "      <td>1890</td>\n",
       "    </tr>\n",
       "    <tr>\n",
       "      <th>U</th>\n",
       "      <td>3067</td>\n",
       "      <td>1</td>\n",
       "      <td>U</td>\n",
       "      <td>3067</td>\n",
       "    </tr>\n",
       "  </tbody>\n",
       "</table>\n",
       "</div>"
      ],
      "text/plain": [
       "                 count unique top  freq\n",
       "prizm_social_one                       \n",
       "C                 2144      1   C  2144\n",
       "R                  619      1   R   619\n",
       "S                 4087      1   S  4087\n",
       "T                 1890      1   T  1890\n",
       "U                 3067      1   U  3067"
      ]
     },
     "execution_count": 65,
     "metadata": {},
     "output_type": "execute_result"
    }
   ],
   "source": [
    "data1.groupby('prizm_social_one')['prizm_social_one'].describe()"
   ]
  },
  {
   "cell_type": "code",
   "execution_count": 364,
   "metadata": {},
   "outputs": [],
   "source": [
    "data1.fillna(value={'prizm_social_one' : 'U'}, inplace=True)\n",
    "# NA values can be estimated as U or C as they are a majority and almost similar in nature "
   ]
  },
  {
   "cell_type": "code",
   "execution_count": 365,
   "metadata": {},
   "outputs": [],
   "source": [
    "data1.fillna(value={'hnd_price' : data1['hnd_price'].mean()}, inplace=True)"
   ]
  },
  {
   "cell_type": "code",
   "execution_count": 366,
   "metadata": {},
   "outputs": [],
   "source": [
    "# Bucketing\n",
    "def cat(a):\n",
    "    for i in a:\n",
    "        if ord(i[:1])<=ord('G'):\n",
    "            \n",
    "            return 'low'\n",
    "        else:\n",
    "            if ord('G')<ord(i[:1])<=ord('M'):\n",
    "                \n",
    "                return 'medium'\n",
    "            else:\n",
    "                if ord('M')<ord(i[:1])<=ord('S'):\n",
    "                    return 'high'\n",
    "                else:\n",
    "                    return 'very high'                \n",
    "\n",
    "   \n",
    "                                        \n",
    "data1['crclscod_n'] = data1['crclscod'].map(cat)                              "
   ]
  },
  {
   "cell_type": "code",
   "execution_count": 367,
   "metadata": {},
   "outputs": [],
   "source": [
    "data1.drop('crclscod',inplace=True,axis = 1)"
   ]
  },
  {
   "cell_type": "code",
   "execution_count": 368,
   "metadata": {},
   "outputs": [
    {
     "data": {
      "text/html": [
       "<div>\n",
       "<style scoped>\n",
       "    .dataframe tbody tr th:only-of-type {\n",
       "        vertical-align: middle;\n",
       "    }\n",
       "\n",
       "    .dataframe tbody tr th {\n",
       "        vertical-align: top;\n",
       "    }\n",
       "\n",
       "    .dataframe thead th {\n",
       "        text-align: right;\n",
       "    }\n",
       "</style>\n",
       "<table border=\"1\" class=\"dataframe\">\n",
       "  <thead>\n",
       "    <tr style=\"text-align: right;\">\n",
       "      <th></th>\n",
       "      <th>asl_flag</th>\n",
       "      <th>prizm_social_one</th>\n",
       "      <th>area</th>\n",
       "      <th>refurb_new</th>\n",
       "      <th>marital</th>\n",
       "      <th>ethnic</th>\n",
       "      <th>car_buy</th>\n",
       "      <th>crclscod_n</th>\n",
       "    </tr>\n",
       "  </thead>\n",
       "  <tbody>\n",
       "    <tr>\n",
       "      <th>0</th>\n",
       "      <td>Y</td>\n",
       "      <td>S</td>\n",
       "      <td>CALIFORNIA NORTH AREA</td>\n",
       "      <td>N</td>\n",
       "      <td>S</td>\n",
       "      <td>U</td>\n",
       "      <td>UNKNOWN</td>\n",
       "      <td>low</td>\n",
       "    </tr>\n",
       "    <tr>\n",
       "      <th>1</th>\n",
       "      <td>N</td>\n",
       "      <td>U</td>\n",
       "      <td>NEW YORK CITY AREA</td>\n",
       "      <td>N</td>\n",
       "      <td>U</td>\n",
       "      <td>H</td>\n",
       "      <td>UNKNOWN</td>\n",
       "      <td>very high</td>\n",
       "    </tr>\n",
       "    <tr>\n",
       "      <th>2</th>\n",
       "      <td>N</td>\n",
       "      <td>S</td>\n",
       "      <td>DC/MARYLAND/VIRGINIA AREA</td>\n",
       "      <td>N</td>\n",
       "      <td>U</td>\n",
       "      <td>N</td>\n",
       "      <td>New</td>\n",
       "      <td>low</td>\n",
       "    </tr>\n",
       "    <tr>\n",
       "      <th>3</th>\n",
       "      <td>N</td>\n",
       "      <td>U</td>\n",
       "      <td>CALIFORNIA NORTH AREA</td>\n",
       "      <td>N</td>\n",
       "      <td>U</td>\n",
       "      <td>B</td>\n",
       "      <td>UNKNOWN</td>\n",
       "      <td>low</td>\n",
       "    </tr>\n",
       "    <tr>\n",
       "      <th>4</th>\n",
       "      <td>N</td>\n",
       "      <td>U</td>\n",
       "      <td>GREAT LAKES AREA</td>\n",
       "      <td>N</td>\n",
       "      <td>A</td>\n",
       "      <td>Z</td>\n",
       "      <td>New</td>\n",
       "      <td>low</td>\n",
       "    </tr>\n",
       "  </tbody>\n",
       "</table>\n",
       "</div>"
      ],
      "text/plain": [
       "  asl_flag prizm_social_one                       area refurb_new marital  \\\n",
       "0        Y                S      CALIFORNIA NORTH AREA          N       S   \n",
       "1        N                U         NEW YORK CITY AREA          N       U   \n",
       "2        N                S  DC/MARYLAND/VIRGINIA AREA          N       U   \n",
       "3        N                U      CALIFORNIA NORTH AREA          N       U   \n",
       "4        N                U           GREAT LAKES AREA          N       A   \n",
       "\n",
       "  ethnic  car_buy crclscod_n  \n",
       "0      U  UNKNOWN        low  \n",
       "1      H  UNKNOWN  very high  \n",
       "2      N      New        low  \n",
       "3      B  UNKNOWN        low  \n",
       "4      Z      New        low  "
      ]
     },
     "execution_count": 368,
     "metadata": {},
     "output_type": "execute_result"
    }
   ],
   "source": [
    "data1[data1.dtypes[data1.dtypes == object].index].head()"
   ]
  },
  {
   "cell_type": "code",
   "execution_count": 369,
   "metadata": {},
   "outputs": [],
   "source": [
    "from sklearn.preprocessing import normalize"
   ]
  },
  {
   "cell_type": "code",
   "execution_count": 252,
   "metadata": {},
   "outputs": [
    {
     "data": {
      "text/html": [
       "<div>\n",
       "<style scoped>\n",
       "    .dataframe tbody tr th:only-of-type {\n",
       "        vertical-align: middle;\n",
       "    }\n",
       "\n",
       "    .dataframe tbody tr th {\n",
       "        vertical-align: top;\n",
       "    }\n",
       "\n",
       "    .dataframe thead th {\n",
       "        text-align: right;\n",
       "    }\n",
       "</style>\n",
       "<table border=\"1\" class=\"dataframe\">\n",
       "  <thead>\n",
       "    <tr style=\"text-align: right;\">\n",
       "      <th></th>\n",
       "      <th>totmrc_Mean</th>\n",
       "      <th>drop_blk_Mean</th>\n",
       "      <th>mou_opkv_Range</th>\n",
       "      <th>callwait_Mean</th>\n",
       "      <th>iwylis_vce_Mean</th>\n",
       "      <th>rev_Mean</th>\n",
       "      <th>ovrmou_Mean</th>\n",
       "      <th>comp_vce_Mean</th>\n",
       "      <th>plcd_vce_Mean</th>\n",
       "      <th>avgmou</th>\n",
       "      <th>...</th>\n",
       "      <th>da_Range</th>\n",
       "      <th>datovr_Mean</th>\n",
       "      <th>drop_dat_Mean</th>\n",
       "      <th>drop_vce_Mean</th>\n",
       "      <th>adjmou</th>\n",
       "      <th>totrev</th>\n",
       "      <th>adjrev</th>\n",
       "      <th>avgrev</th>\n",
       "      <th>overage_rev_ratio</th>\n",
       "      <th>mou_minute_n</th>\n",
       "    </tr>\n",
       "  </thead>\n",
       "  <tbody>\n",
       "    <tr>\n",
       "      <th>0</th>\n",
       "      <td>104.365</td>\n",
       "      <td>22.000000</td>\n",
       "      <td>1052.43</td>\n",
       "      <td>0.000000</td>\n",
       "      <td>23.333333</td>\n",
       "      <td>210.8775</td>\n",
       "      <td>541.5</td>\n",
       "      <td>757.333333</td>\n",
       "      <td>850.666667</td>\n",
       "      <td>2027.27</td>\n",
       "      <td>...</td>\n",
       "      <td>3.96</td>\n",
       "      <td>0.000</td>\n",
       "      <td>0.0</td>\n",
       "      <td>20.333333</td>\n",
       "      <td>30409.0</td>\n",
       "      <td>2305.60</td>\n",
       "      <td>2189.80</td>\n",
       "      <td>145.99</td>\n",
       "      <td>0.058716</td>\n",
       "      <td>2.650301</td>\n",
       "    </tr>\n",
       "    <tr>\n",
       "      <th>1</th>\n",
       "      <td>45.030</td>\n",
       "      <td>47.000000</td>\n",
       "      <td>268.46</td>\n",
       "      <td>0.000000</td>\n",
       "      <td>29.333333</td>\n",
       "      <td>85.9825</td>\n",
       "      <td>104.5</td>\n",
       "      <td>307.333333</td>\n",
       "      <td>469.666667</td>\n",
       "      <td>365.69</td>\n",
       "      <td>...</td>\n",
       "      <td>1.98</td>\n",
       "      <td>0.195</td>\n",
       "      <td>0.0</td>\n",
       "      <td>42.000000</td>\n",
       "      <td>4754.0</td>\n",
       "      <td>755.63</td>\n",
       "      <td>695.26</td>\n",
       "      <td>53.48</td>\n",
       "      <td>0.055311</td>\n",
       "      <td>0.846022</td>\n",
       "    </tr>\n",
       "    <tr>\n",
       "      <th>2</th>\n",
       "      <td>64.990</td>\n",
       "      <td>11.000000</td>\n",
       "      <td>20.22</td>\n",
       "      <td>9.000000</td>\n",
       "      <td>6.000000</td>\n",
       "      <td>97.6375</td>\n",
       "      <td>96.0</td>\n",
       "      <td>162.000000</td>\n",
       "      <td>210.666667</td>\n",
       "      <td>834.84</td>\n",
       "      <td>...</td>\n",
       "      <td>0.99</td>\n",
       "      <td>0.000</td>\n",
       "      <td>0.0</td>\n",
       "      <td>4.333333</td>\n",
       "      <td>15862.0</td>\n",
       "      <td>1443.86</td>\n",
       "      <td>1360.63</td>\n",
       "      <td>71.61</td>\n",
       "      <td>0.026595</td>\n",
       "      <td>1.208384</td>\n",
       "    </tr>\n",
       "    <tr>\n",
       "      <th>3</th>\n",
       "      <td>39.990</td>\n",
       "      <td>0.000000</td>\n",
       "      <td>81.87</td>\n",
       "      <td>0.000000</td>\n",
       "      <td>3.666667</td>\n",
       "      <td>30.1850</td>\n",
       "      <td>0.0</td>\n",
       "      <td>50.666667</td>\n",
       "      <td>58.333333</td>\n",
       "      <td>288.55</td>\n",
       "      <td>...</td>\n",
       "      <td>0.00</td>\n",
       "      <td>0.000</td>\n",
       "      <td>0.0</td>\n",
       "      <td>0.000000</td>\n",
       "      <td>3174.0</td>\n",
       "      <td>397.42</td>\n",
       "      <td>337.44</td>\n",
       "      <td>30.68</td>\n",
       "      <td>0.000000</td>\n",
       "      <td>1.872699</td>\n",
       "    </tr>\n",
       "    <tr>\n",
       "      <th>4</th>\n",
       "      <td>49.990</td>\n",
       "      <td>13.666667</td>\n",
       "      <td>54.81</td>\n",
       "      <td>5.333333</td>\n",
       "      <td>10.666667</td>\n",
       "      <td>139.4675</td>\n",
       "      <td>261.5</td>\n",
       "      <td>255.333333</td>\n",
       "      <td>376.666667</td>\n",
       "      <td>748.08</td>\n",
       "      <td>...</td>\n",
       "      <td>4.95</td>\n",
       "      <td>0.000</td>\n",
       "      <td>0.0</td>\n",
       "      <td>12.000000</td>\n",
       "      <td>8977.0</td>\n",
       "      <td>1209.26</td>\n",
       "      <td>1126.03</td>\n",
       "      <td>93.84</td>\n",
       "      <td>0.064874</td>\n",
       "      <td>1.959216</td>\n",
       "    </tr>\n",
       "  </tbody>\n",
       "</table>\n",
       "<p>5 rows × 35 columns</p>\n",
       "</div>"
      ],
      "text/plain": [
       "   totmrc_Mean  drop_blk_Mean  mou_opkv_Range  callwait_Mean  iwylis_vce_Mean  \\\n",
       "0      104.365      22.000000         1052.43       0.000000        23.333333   \n",
       "1       45.030      47.000000          268.46       0.000000        29.333333   \n",
       "2       64.990      11.000000           20.22       9.000000         6.000000   \n",
       "3       39.990       0.000000           81.87       0.000000         3.666667   \n",
       "4       49.990      13.666667           54.81       5.333333        10.666667   \n",
       "\n",
       "   rev_Mean  ovrmou_Mean  comp_vce_Mean  plcd_vce_Mean   avgmou      ...       \\\n",
       "0  210.8775        541.5     757.333333     850.666667  2027.27      ...        \n",
       "1   85.9825        104.5     307.333333     469.666667   365.69      ...        \n",
       "2   97.6375         96.0     162.000000     210.666667   834.84      ...        \n",
       "3   30.1850          0.0      50.666667      58.333333   288.55      ...        \n",
       "4  139.4675        261.5     255.333333     376.666667   748.08      ...        \n",
       "\n",
       "   da_Range  datovr_Mean  drop_dat_Mean  drop_vce_Mean   adjmou   totrev  \\\n",
       "0      3.96        0.000            0.0      20.333333  30409.0  2305.60   \n",
       "1      1.98        0.195            0.0      42.000000   4754.0   755.63   \n",
       "2      0.99        0.000            0.0       4.333333  15862.0  1443.86   \n",
       "3      0.00        0.000            0.0       0.000000   3174.0   397.42   \n",
       "4      4.95        0.000            0.0      12.000000   8977.0  1209.26   \n",
       "\n",
       "    adjrev  avgrev  overage_rev_ratio  mou_minute_n  \n",
       "0  2189.80  145.99           0.058716      2.650301  \n",
       "1   695.26   53.48           0.055311      0.846022  \n",
       "2  1360.63   71.61           0.026595      1.208384  \n",
       "3   337.44   30.68           0.000000      1.872699  \n",
       "4  1126.03   93.84           0.064874      1.959216  \n",
       "\n",
       "[5 rows x 35 columns]"
      ]
     },
     "execution_count": 252,
     "metadata": {},
     "output_type": "execute_result"
    }
   ],
   "source": [
    "data1[data1.dtypes[(data1.dtypes == int) | (data1.dtypes == float)].index].head()"
   ]
  },
  {
   "cell_type": "code",
   "execution_count": 370,
   "metadata": {},
   "outputs": [],
   "source": [
    "datat2 = pd.DataFrame(normalize(data1[data1.dtypes[(data1.dtypes == int) | (data1.dtypes == float)].index]))"
   ]
  },
  {
   "cell_type": "code",
   "execution_count": 93,
   "metadata": {},
   "outputs": [
    {
     "data": {
      "text/html": [
       "<div>\n",
       "<style scoped>\n",
       "    .dataframe tbody tr th:only-of-type {\n",
       "        vertical-align: middle;\n",
       "    }\n",
       "\n",
       "    .dataframe tbody tr th {\n",
       "        vertical-align: top;\n",
       "    }\n",
       "\n",
       "    .dataframe thead th {\n",
       "        text-align: right;\n",
       "    }\n",
       "</style>\n",
       "<table border=\"1\" class=\"dataframe\">\n",
       "  <thead>\n",
       "    <tr style=\"text-align: right;\">\n",
       "      <th></th>\n",
       "      <th>0</th>\n",
       "      <th>1</th>\n",
       "      <th>2</th>\n",
       "      <th>3</th>\n",
       "      <th>4</th>\n",
       "      <th>5</th>\n",
       "      <th>6</th>\n",
       "      <th>7</th>\n",
       "      <th>8</th>\n",
       "      <th>9</th>\n",
       "      <th>...</th>\n",
       "      <th>29</th>\n",
       "      <th>30</th>\n",
       "      <th>31</th>\n",
       "      <th>32</th>\n",
       "      <th>33</th>\n",
       "      <th>34</th>\n",
       "      <th>35</th>\n",
       "      <th>36</th>\n",
       "      <th>37</th>\n",
       "      <th>38</th>\n",
       "    </tr>\n",
       "  </thead>\n",
       "  <tbody>\n",
       "    <tr>\n",
       "      <th>0</th>\n",
       "      <td>0.113142</td>\n",
       "      <td>0.003352</td>\n",
       "      <td>0.004759</td>\n",
       "      <td>0.042690</td>\n",
       "      <td>0.000707</td>\n",
       "      <td>0.033806</td>\n",
       "      <td>0.000717</td>\n",
       "      <td>0.000000</td>\n",
       "      <td>0.000750</td>\n",
       "      <td>0.004349</td>\n",
       "      <td>...</td>\n",
       "      <td>0.000111</td>\n",
       "      <td>0.000127</td>\n",
       "      <td>0.000000</td>\n",
       "      <td>0.000000</td>\n",
       "      <td>0.0</td>\n",
       "      <td>0.000653</td>\n",
       "      <td>0.976802</td>\n",
       "      <td>0.074061</td>\n",
       "      <td>0.070341</td>\n",
       "      <td>0.004690</td>\n",
       "    </tr>\n",
       "    <tr>\n",
       "      <th>1</th>\n",
       "      <td>0.167153</td>\n",
       "      <td>0.008740</td>\n",
       "      <td>0.031785</td>\n",
       "      <td>0.197576</td>\n",
       "      <td>0.009122</td>\n",
       "      <td>0.052103</td>\n",
       "      <td>0.011063</td>\n",
       "      <td>0.000000</td>\n",
       "      <td>0.005693</td>\n",
       "      <td>0.008112</td>\n",
       "      <td>...</td>\n",
       "      <td>0.000096</td>\n",
       "      <td>0.000384</td>\n",
       "      <td>0.000038</td>\n",
       "      <td>0.000076</td>\n",
       "      <td>0.0</td>\n",
       "      <td>0.008151</td>\n",
       "      <td>0.922667</td>\n",
       "      <td>0.146654</td>\n",
       "      <td>0.134938</td>\n",
       "      <td>0.010380</td>\n",
       "    </tr>\n",
       "    <tr>\n",
       "      <th>2</th>\n",
       "      <td>0.061747</td>\n",
       "      <td>0.004035</td>\n",
       "      <td>0.007376</td>\n",
       "      <td>0.051099</td>\n",
       "      <td>0.000683</td>\n",
       "      <td>0.001255</td>\n",
       "      <td>0.000062</td>\n",
       "      <td>0.000559</td>\n",
       "      <td>0.000373</td>\n",
       "      <td>0.002384</td>\n",
       "      <td>...</td>\n",
       "      <td>0.000015</td>\n",
       "      <td>0.000061</td>\n",
       "      <td>0.000000</td>\n",
       "      <td>0.000000</td>\n",
       "      <td>0.0</td>\n",
       "      <td>0.000269</td>\n",
       "      <td>0.984854</td>\n",
       "      <td>0.089648</td>\n",
       "      <td>0.084480</td>\n",
       "      <td>0.004446</td>\n",
       "    </tr>\n",
       "    <tr>\n",
       "      <th>3</th>\n",
       "      <td>0.093327</td>\n",
       "      <td>0.012227</td>\n",
       "      <td>0.000238</td>\n",
       "      <td>0.049836</td>\n",
       "      <td>0.000000</td>\n",
       "      <td>0.025031</td>\n",
       "      <td>0.000000</td>\n",
       "      <td>0.000000</td>\n",
       "      <td>0.001121</td>\n",
       "      <td>0.000000</td>\n",
       "      <td>...</td>\n",
       "      <td>0.000000</td>\n",
       "      <td>0.000000</td>\n",
       "      <td>0.000000</td>\n",
       "      <td>0.000000</td>\n",
       "      <td>0.0</td>\n",
       "      <td>0.000000</td>\n",
       "      <td>0.970418</td>\n",
       "      <td>0.121507</td>\n",
       "      <td>0.103169</td>\n",
       "      <td>0.009380</td>\n",
       "    </tr>\n",
       "    <tr>\n",
       "      <th>4</th>\n",
       "      <td>0.099576</td>\n",
       "      <td>0.005383</td>\n",
       "      <td>0.012014</td>\n",
       "      <td>0.050824</td>\n",
       "      <td>0.001472</td>\n",
       "      <td>0.005902</td>\n",
       "      <td>0.000000</td>\n",
       "      <td>0.000574</td>\n",
       "      <td>0.001149</td>\n",
       "      <td>0.008447</td>\n",
       "      <td>...</td>\n",
       "      <td>0.000506</td>\n",
       "      <td>0.000533</td>\n",
       "      <td>0.000000</td>\n",
       "      <td>0.000000</td>\n",
       "      <td>0.0</td>\n",
       "      <td>0.001292</td>\n",
       "      <td>0.966632</td>\n",
       "      <td>0.130212</td>\n",
       "      <td>0.121250</td>\n",
       "      <td>0.010105</td>\n",
       "    </tr>\n",
       "  </tbody>\n",
       "</table>\n",
       "<p>5 rows × 39 columns</p>\n",
       "</div>"
      ],
      "text/plain": [
       "         0         1         2         3         4         5         6   \\\n",
       "0  0.113142  0.003352  0.004759  0.042690  0.000707  0.033806  0.000717   \n",
       "1  0.167153  0.008740  0.031785  0.197576  0.009122  0.052103  0.011063   \n",
       "2  0.061747  0.004035  0.007376  0.051099  0.000683  0.001255  0.000062   \n",
       "3  0.093327  0.012227  0.000238  0.049836  0.000000  0.025031  0.000000   \n",
       "4  0.099576  0.005383  0.012014  0.050824  0.001472  0.005902  0.000000   \n",
       "\n",
       "         7         8         9     ...           29        30        31  \\\n",
       "0  0.000000  0.000750  0.004349    ...     0.000111  0.000127  0.000000   \n",
       "1  0.000000  0.005693  0.008112    ...     0.000096  0.000384  0.000038   \n",
       "2  0.000559  0.000373  0.002384    ...     0.000015  0.000061  0.000000   \n",
       "3  0.000000  0.001121  0.000000    ...     0.000000  0.000000  0.000000   \n",
       "4  0.000574  0.001149  0.008447    ...     0.000506  0.000533  0.000000   \n",
       "\n",
       "         32   33        34        35        36        37        38  \n",
       "0  0.000000  0.0  0.000653  0.976802  0.074061  0.070341  0.004690  \n",
       "1  0.000076  0.0  0.008151  0.922667  0.146654  0.134938  0.010380  \n",
       "2  0.000000  0.0  0.000269  0.984854  0.089648  0.084480  0.004446  \n",
       "3  0.000000  0.0  0.000000  0.970418  0.121507  0.103169  0.009380  \n",
       "4  0.000000  0.0  0.001292  0.966632  0.130212  0.121250  0.010105  \n",
       "\n",
       "[5 rows x 39 columns]"
      ]
     },
     "execution_count": 93,
     "metadata": {},
     "output_type": "execute_result"
    }
   ],
   "source": [
    "datat2[datat2.columns.values].head()"
   ]
  },
  {
   "cell_type": "code",
   "execution_count": 371,
   "metadata": {},
   "outputs": [],
   "source": [
    "data1[data1.dtypes[(data1.dtypes == int) | (data1.dtypes == float)].index] = datat2[datat2.columns.values]"
   ]
  },
  {
   "cell_type": "code",
   "execution_count": 255,
   "metadata": {},
   "outputs": [
    {
     "data": {
      "text/html": [
       "<div>\n",
       "<style scoped>\n",
       "    .dataframe tbody tr th:only-of-type {\n",
       "        vertical-align: middle;\n",
       "    }\n",
       "\n",
       "    .dataframe tbody tr th {\n",
       "        vertical-align: top;\n",
       "    }\n",
       "\n",
       "    .dataframe thead th {\n",
       "        text-align: right;\n",
       "    }\n",
       "</style>\n",
       "<table border=\"1\" class=\"dataframe\">\n",
       "  <thead>\n",
       "    <tr style=\"text-align: right;\">\n",
       "      <th></th>\n",
       "      <th>totmrc_Mean</th>\n",
       "      <th>drop_blk_Mean</th>\n",
       "      <th>owylis_vce_Range</th>\n",
       "      <th>mou_opkv_Range</th>\n",
       "      <th>months</th>\n",
       "      <th>totcalls</th>\n",
       "      <th>eqpdays</th>\n",
       "      <th>callwait_Mean</th>\n",
       "      <th>iwylis_vce_Mean</th>\n",
       "      <th>callwait_Range</th>\n",
       "      <th>...</th>\n",
       "      <th>datovr_Mean</th>\n",
       "      <th>drop_dat_Mean</th>\n",
       "      <th>drop_vce_Mean</th>\n",
       "      <th>adjmou</th>\n",
       "      <th>totrev</th>\n",
       "      <th>adjrev</th>\n",
       "      <th>avgrev</th>\n",
       "      <th>overage_rev_ratio</th>\n",
       "      <th>mou_minute_n</th>\n",
       "      <th>crclscod_n</th>\n",
       "    </tr>\n",
       "  </thead>\n",
       "  <tbody>\n",
       "    <tr>\n",
       "      <th>0</th>\n",
       "      <td>0.003377</td>\n",
       "      <td>0.000712</td>\n",
       "      <td>73</td>\n",
       "      <td>0.034057</td>\n",
       "      <td>16</td>\n",
       "      <td>11084</td>\n",
       "      <td>75</td>\n",
       "      <td>0.000000</td>\n",
       "      <td>0.000755</td>\n",
       "      <td>0</td>\n",
       "      <td>...</td>\n",
       "      <td>0.000000</td>\n",
       "      <td>0.0</td>\n",
       "      <td>0.000658</td>\n",
       "      <td>0.984045</td>\n",
       "      <td>0.074610</td>\n",
       "      <td>0.070863</td>\n",
       "      <td>0.004724</td>\n",
       "      <td>0.000002</td>\n",
       "      <td>0.000086</td>\n",
       "      <td>low</td>\n",
       "    </tr>\n",
       "    <tr>\n",
       "      <th>1</th>\n",
       "      <td>0.009054</td>\n",
       "      <td>0.009450</td>\n",
       "      <td>88</td>\n",
       "      <td>0.053976</td>\n",
       "      <td>14</td>\n",
       "      <td>1649</td>\n",
       "      <td>111</td>\n",
       "      <td>0.000000</td>\n",
       "      <td>0.005898</td>\n",
       "      <td>0</td>\n",
       "      <td>...</td>\n",
       "      <td>0.000039</td>\n",
       "      <td>0.0</td>\n",
       "      <td>0.008444</td>\n",
       "      <td>0.955824</td>\n",
       "      <td>0.151925</td>\n",
       "      <td>0.139787</td>\n",
       "      <td>0.010753</td>\n",
       "      <td>0.000011</td>\n",
       "      <td>0.000170</td>\n",
       "      <td>very high</td>\n",
       "    </tr>\n",
       "    <tr>\n",
       "      <th>2</th>\n",
       "      <td>0.004048</td>\n",
       "      <td>0.000685</td>\n",
       "      <td>11</td>\n",
       "      <td>0.001260</td>\n",
       "      <td>20</td>\n",
       "      <td>4324</td>\n",
       "      <td>116</td>\n",
       "      <td>0.000561</td>\n",
       "      <td>0.000374</td>\n",
       "      <td>3</td>\n",
       "      <td>...</td>\n",
       "      <td>0.000000</td>\n",
       "      <td>0.0</td>\n",
       "      <td>0.000270</td>\n",
       "      <td>0.988062</td>\n",
       "      <td>0.089940</td>\n",
       "      <td>0.084755</td>\n",
       "      <td>0.004461</td>\n",
       "      <td>0.000002</td>\n",
       "      <td>0.000075</td>\n",
       "      <td>low</td>\n",
       "    </tr>\n",
       "    <tr>\n",
       "      <th>3</th>\n",
       "      <td>0.012296</td>\n",
       "      <td>0.000000</td>\n",
       "      <td>14</td>\n",
       "      <td>0.025172</td>\n",
       "      <td>12</td>\n",
       "      <td>721</td>\n",
       "      <td>372</td>\n",
       "      <td>0.000000</td>\n",
       "      <td>0.001127</td>\n",
       "      <td>0</td>\n",
       "      <td>...</td>\n",
       "      <td>0.000000</td>\n",
       "      <td>0.0</td>\n",
       "      <td>0.000000</td>\n",
       "      <td>0.975895</td>\n",
       "      <td>0.122193</td>\n",
       "      <td>0.103751</td>\n",
       "      <td>0.009433</td>\n",
       "      <td>0.000000</td>\n",
       "      <td>0.000576</td>\n",
       "      <td>low</td>\n",
       "    </tr>\n",
       "    <tr>\n",
       "      <th>4</th>\n",
       "      <td>0.005417</td>\n",
       "      <td>0.001481</td>\n",
       "      <td>51</td>\n",
       "      <td>0.005940</td>\n",
       "      <td>13</td>\n",
       "      <td>3917</td>\n",
       "      <td>392</td>\n",
       "      <td>0.000578</td>\n",
       "      <td>0.001156</td>\n",
       "      <td>7</td>\n",
       "      <td>...</td>\n",
       "      <td>0.000000</td>\n",
       "      <td>0.0</td>\n",
       "      <td>0.001300</td>\n",
       "      <td>0.972836</td>\n",
       "      <td>0.131047</td>\n",
       "      <td>0.122028</td>\n",
       "      <td>0.010169</td>\n",
       "      <td>0.000007</td>\n",
       "      <td>0.000212</td>\n",
       "      <td>low</td>\n",
       "    </tr>\n",
       "  </tbody>\n",
       "</table>\n",
       "<p>5 rows × 56 columns</p>\n",
       "</div>"
      ],
      "text/plain": [
       "   totmrc_Mean  drop_blk_Mean  owylis_vce_Range  mou_opkv_Range  months  \\\n",
       "0     0.003377       0.000712                73        0.034057      16   \n",
       "1     0.009054       0.009450                88        0.053976      14   \n",
       "2     0.004048       0.000685                11        0.001260      20   \n",
       "3     0.012296       0.000000                14        0.025172      12   \n",
       "4     0.005417       0.001481                51        0.005940      13   \n",
       "\n",
       "   totcalls  eqpdays  callwait_Mean  iwylis_vce_Mean  callwait_Range  \\\n",
       "0     11084       75       0.000000         0.000755               0   \n",
       "1      1649      111       0.000000         0.005898               0   \n",
       "2      4324      116       0.000561         0.000374               3   \n",
       "3       721      372       0.000000         0.001127               0   \n",
       "4      3917      392       0.000578         0.001156               7   \n",
       "\n",
       "      ...      datovr_Mean  drop_dat_Mean  drop_vce_Mean    adjmou    totrev  \\\n",
       "0     ...         0.000000            0.0       0.000658  0.984045  0.074610   \n",
       "1     ...         0.000039            0.0       0.008444  0.955824  0.151925   \n",
       "2     ...         0.000000            0.0       0.000270  0.988062  0.089940   \n",
       "3     ...         0.000000            0.0       0.000000  0.975895  0.122193   \n",
       "4     ...         0.000000            0.0       0.001300  0.972836  0.131047   \n",
       "\n",
       "     adjrev    avgrev  overage_rev_ratio  mou_minute_n  crclscod_n  \n",
       "0  0.070863  0.004724           0.000002      0.000086         low  \n",
       "1  0.139787  0.010753           0.000011      0.000170   very high  \n",
       "2  0.084755  0.004461           0.000002      0.000075         low  \n",
       "3  0.103751  0.009433           0.000000      0.000576         low  \n",
       "4  0.122028  0.010169           0.000007      0.000212         low  \n",
       "\n",
       "[5 rows x 56 columns]"
      ]
     },
     "execution_count": 255,
     "metadata": {},
     "output_type": "execute_result"
    }
   ],
   "source": [
    "data1.head()"
   ]
  },
  {
   "cell_type": "code",
   "execution_count": 372,
   "metadata": {},
   "outputs": [],
   "source": [
    "data1 = data1.dropna(subset = ['avgmou'])"
   ]
  },
  {
   "cell_type": "code",
   "execution_count": 373,
   "metadata": {},
   "outputs": [
    {
     "data": {
      "text/plain": [
       "Series([], dtype: int64)"
      ]
     },
     "execution_count": 373,
     "metadata": {},
     "output_type": "execute_result"
    }
   ],
   "source": [
    "data1.isnull().sum()[data1.isnull().sum() != 0]"
   ]
  },
  {
   "cell_type": "code",
   "execution_count": 374,
   "metadata": {},
   "outputs": [],
   "source": [
    "data2 = pd.get_dummies(data1)"
   ]
  },
  {
   "cell_type": "code",
   "execution_count": 375,
   "metadata": {},
   "outputs": [],
   "source": [
    "X = data2.drop('churn',axis = 1)"
   ]
  },
  {
   "cell_type": "code",
   "execution_count": 376,
   "metadata": {},
   "outputs": [],
   "source": [
    "Y = data2.drop(X,axis =1)\n"
   ]
  },
  {
   "cell_type": "code",
   "execution_count": 377,
   "metadata": {},
   "outputs": [],
   "source": [
    "Y = np.ravel(Y)"
   ]
  },
  {
   "cell_type": "code",
   "execution_count": 303,
   "metadata": {},
   "outputs": [
    {
     "data": {
      "text/plain": [
       "(11731, 105)"
      ]
     },
     "execution_count": 303,
     "metadata": {},
     "output_type": "execute_result"
    }
   ],
   "source": [
    "X.shape"
   ]
  },
  {
   "cell_type": "code",
   "execution_count": 263,
   "metadata": {},
   "outputs": [],
   "source": [
    "from sklearn.model_selection import train_test_split as ms"
   ]
  },
  {
   "cell_type": "code",
   "execution_count": 378,
   "metadata": {},
   "outputs": [],
   "source": [
    "x_train,x_test,y_train,y_test = ms(X,Y,test_size=0.30,random_state=200)"
   ]
  },
  {
   "cell_type": "code",
   "execution_count": 265,
   "metadata": {},
   "outputs": [],
   "source": [
    "from sklearn.ensemble import RandomForestClassifier"
   ]
  },
  {
   "cell_type": "code",
   "execution_count": 50,
   "metadata": {},
   "outputs": [
    {
     "name": "stderr",
     "output_type": "stream",
     "text": [
      "C:\\Users\\Lenovo\\Anaconda3\\lib\\site-packages\\ipykernel_launcher.py:3: DataConversionWarning: A column-vector y was passed when a 1d array was expected. Please change the shape of y to (n_samples,), for example using ravel().\n",
      "  This is separate from the ipykernel package so we can avoid doing imports until\n"
     ]
    },
    {
     "name": "stdout",
     "output_type": "stream",
     "text": [
      "for n = 300\n",
      "oob is = 0.7594816311972417\n",
      "###########################\n"
     ]
    },
    {
     "name": "stderr",
     "output_type": "stream",
     "text": [
      "C:\\Users\\Lenovo\\Anaconda3\\lib\\site-packages\\ipykernel_launcher.py:3: DataConversionWarning: A column-vector y was passed when a 1d array was expected. Please change the shape of y to (n_samples,), for example using ravel().\n",
      "  This is separate from the ipykernel package so we can avoid doing imports until\n"
     ]
    },
    {
     "name": "stdout",
     "output_type": "stream",
     "text": [
      "for n = 320\n",
      "oob is = 0.7596005231244799\n",
      "###########################\n"
     ]
    },
    {
     "name": "stderr",
     "output_type": "stream",
     "text": [
      "C:\\Users\\Lenovo\\Anaconda3\\lib\\site-packages\\ipykernel_launcher.py:3: DataConversionWarning: A column-vector y was passed when a 1d array was expected. Please change the shape of y to (n_samples,), for example using ravel().\n",
      "  This is separate from the ipykernel package so we can avoid doing imports until\n"
     ]
    },
    {
     "name": "stdout",
     "output_type": "stream",
     "text": [
      "for n = 340\n",
      "oob is = 0.759719415051718\n",
      "###########################\n"
     ]
    },
    {
     "name": "stderr",
     "output_type": "stream",
     "text": [
      "C:\\Users\\Lenovo\\Anaconda3\\lib\\site-packages\\ipykernel_launcher.py:3: DataConversionWarning: A column-vector y was passed when a 1d array was expected. Please change the shape of y to (n_samples,), for example using ravel().\n",
      "  This is separate from the ipykernel package so we can avoid doing imports until\n"
     ]
    },
    {
     "name": "stdout",
     "output_type": "stream",
     "text": [
      "for n = 360\n",
      "oob is = 0.759719415051718\n",
      "###########################\n"
     ]
    },
    {
     "name": "stderr",
     "output_type": "stream",
     "text": [
      "C:\\Users\\Lenovo\\Anaconda3\\lib\\site-packages\\ipykernel_launcher.py:3: DataConversionWarning: A column-vector y was passed when a 1d array was expected. Please change the shape of y to (n_samples,), for example using ravel().\n",
      "  This is separate from the ipykernel package so we can avoid doing imports until\n"
     ]
    },
    {
     "name": "stdout",
     "output_type": "stream",
     "text": [
      "for n = 380\n",
      "oob is = 0.7596005231244799\n",
      "###########################\n"
     ]
    },
    {
     "name": "stderr",
     "output_type": "stream",
     "text": [
      "C:\\Users\\Lenovo\\Anaconda3\\lib\\site-packages\\ipykernel_launcher.py:3: DataConversionWarning: A column-vector y was passed when a 1d array was expected. Please change the shape of y to (n_samples,), for example using ravel().\n",
      "  This is separate from the ipykernel package so we can avoid doing imports until\n"
     ]
    },
    {
     "name": "stdout",
     "output_type": "stream",
     "text": [
      "for n = 400\n",
      "oob is = 0.7596005231244799\n",
      "###########################\n"
     ]
    },
    {
     "name": "stderr",
     "output_type": "stream",
     "text": [
      "C:\\Users\\Lenovo\\Anaconda3\\lib\\site-packages\\ipykernel_launcher.py:3: DataConversionWarning: A column-vector y was passed when a 1d array was expected. Please change the shape of y to (n_samples,), for example using ravel().\n",
      "  This is separate from the ipykernel package so we can avoid doing imports until\n"
     ]
    },
    {
     "name": "stdout",
     "output_type": "stream",
     "text": [
      "for n = 420\n",
      "oob is = 0.7596005231244799\n",
      "###########################\n"
     ]
    },
    {
     "name": "stderr",
     "output_type": "stream",
     "text": [
      "C:\\Users\\Lenovo\\Anaconda3\\lib\\site-packages\\ipykernel_launcher.py:3: DataConversionWarning: A column-vector y was passed when a 1d array was expected. Please change the shape of y to (n_samples,), for example using ravel().\n",
      "  This is separate from the ipykernel package so we can avoid doing imports until\n"
     ]
    },
    {
     "name": "stdout",
     "output_type": "stream",
     "text": [
      "for n = 440\n",
      "oob is = 0.7594816311972417\n",
      "###########################\n"
     ]
    },
    {
     "name": "stderr",
     "output_type": "stream",
     "text": [
      "C:\\Users\\Lenovo\\Anaconda3\\lib\\site-packages\\ipykernel_launcher.py:3: DataConversionWarning: A column-vector y was passed when a 1d array was expected. Please change the shape of y to (n_samples,), for example using ravel().\n",
      "  This is separate from the ipykernel package so we can avoid doing imports until\n"
     ]
    },
    {
     "name": "stdout",
     "output_type": "stream",
     "text": [
      "for n = 460\n",
      "oob is = 0.7594816311972417\n",
      "###########################\n"
     ]
    },
    {
     "name": "stderr",
     "output_type": "stream",
     "text": [
      "C:\\Users\\Lenovo\\Anaconda3\\lib\\site-packages\\ipykernel_launcher.py:3: DataConversionWarning: A column-vector y was passed when a 1d array was expected. Please change the shape of y to (n_samples,), for example using ravel().\n",
      "  This is separate from the ipykernel package so we can avoid doing imports until\n"
     ]
    },
    {
     "name": "stdout",
     "output_type": "stream",
     "text": [
      "for n = 480\n",
      "oob is = 0.7593627392700035\n",
      "###########################\n"
     ]
    },
    {
     "name": "stderr",
     "output_type": "stream",
     "text": [
      "C:\\Users\\Lenovo\\Anaconda3\\lib\\site-packages\\ipykernel_launcher.py:3: DataConversionWarning: A column-vector y was passed when a 1d array was expected. Please change the shape of y to (n_samples,), for example using ravel().\n",
      "  This is separate from the ipykernel package so we can avoid doing imports until\n"
     ]
    },
    {
     "name": "stdout",
     "output_type": "stream",
     "text": [
      "for n = 500\n",
      "oob is = 0.7593627392700035\n",
      "###########################\n"
     ]
    }
   ],
   "source": [
    "for i in range(300,510,20):\n",
    "    mld = RandomForestClassifier(n_estimators=i,oob_score=True,max_features=\"sqrt\",random_state=200)\n",
    "    mld.fit(x_train,y_train)\n",
    "    oob = mld.oob_score_\n",
    "    print ('for n = ' +str(i))\n",
    "    print ('oob is = ' +str(oob))\n",
    "    print ('###########################')"
   ]
  },
  {
   "cell_type": "code",
   "execution_count": 380,
   "metadata": {},
   "outputs": [
    {
     "name": "stdout",
     "output_type": "stream",
     "text": [
      "oob is = 0.7656801851175252\n"
     ]
    }
   ],
   "source": [
    "mld = RandomForestClassifier(n_estimators=340,oob_score=True,max_features=\"sqrt\",random_state=200)\n",
    "mld.fit(x_train,y_train)\n",
    "oob = mld.oob_score_\n",
    "\n",
    "print ('oob is = ' +str(oob))"
   ]
  },
  {
   "cell_type": "code",
   "execution_count": 381,
   "metadata": {},
   "outputs": [
    {
     "data": {
      "text/plain": [
       "0.76875"
      ]
     },
     "execution_count": 381,
     "metadata": {},
     "output_type": "execute_result"
    }
   ],
   "source": [
    "mld.score(x_test,y_test)"
   ]
  },
  {
   "cell_type": "code",
   "execution_count": 382,
   "metadata": {},
   "outputs": [],
   "source": [
    "imp = pd.DataFrame(mld.feature_importances_,index=X.columns.tolist())"
   ]
  },
  {
   "cell_type": "code",
   "execution_count": 272,
   "metadata": {},
   "outputs": [
    {
     "data": {
      "text/html": [
       "<div>\n",
       "<style scoped>\n",
       "    .dataframe tbody tr th:only-of-type {\n",
       "        vertical-align: middle;\n",
       "    }\n",
       "\n",
       "    .dataframe tbody tr th {\n",
       "        vertical-align: top;\n",
       "    }\n",
       "\n",
       "    .dataframe thead th {\n",
       "        text-align: right;\n",
       "    }\n",
       "</style>\n",
       "<table border=\"1\" class=\"dataframe\">\n",
       "  <thead>\n",
       "    <tr style=\"text-align: right;\">\n",
       "      <th></th>\n",
       "      <th>0</th>\n",
       "    </tr>\n",
       "  </thead>\n",
       "  <tbody>\n",
       "    <tr>\n",
       "      <th>eqpdays</th>\n",
       "      <td>0.038953</td>\n",
       "    </tr>\n",
       "    <tr>\n",
       "      <th>avg3mou</th>\n",
       "      <td>0.029948</td>\n",
       "    </tr>\n",
       "    <tr>\n",
       "      <th>mou_minute_n</th>\n",
       "      <td>0.028991</td>\n",
       "    </tr>\n",
       "    <tr>\n",
       "      <th>adjqty</th>\n",
       "      <td>0.028524</td>\n",
       "    </tr>\n",
       "    <tr>\n",
       "      <th>avg3qty</th>\n",
       "      <td>0.028382</td>\n",
       "    </tr>\n",
       "  </tbody>\n",
       "</table>\n",
       "</div>"
      ],
      "text/plain": [
       "                     0\n",
       "eqpdays       0.038953\n",
       "avg3mou       0.029948\n",
       "mou_minute_n  0.028991\n",
       "adjqty        0.028524\n",
       "avg3qty       0.028382"
      ]
     },
     "execution_count": 272,
     "metadata": {},
     "output_type": "execute_result"
    }
   ],
   "source": [
    "imp.sort_values(by = [0],ascending=False).head()"
   ]
  },
  {
   "cell_type": "code",
   "execution_count": 383,
   "metadata": {},
   "outputs": [],
   "source": [
    "# Combining imp values that are splitted because fo get_dummies operation\n",
    "temp2 = pd.DataFrame()\n",
    "for k in range(0,data1.dtypes[data1.dtypes == object].shape[0]):\n",
    "    name = data1.dtypes[data1.dtypes == object].index[k]\n",
    "    j = len((data1.dtypes[data1.dtypes == object].index[k]))\n",
    "    \n",
    "    temp = pd.DataFrame()\n",
    "    for i in range(0,imp.shape[0]):\n",
    "        if imp.index.values[i][0:j] == data1.dtypes[data1.dtypes == object].index[k]:\n",
    "            temp = temp.append(imp.loc[imp.index.values[i]])\n",
    "      \n",
    "        \n",
    "          \n",
    "    a = pd.DataFrame([temp.sum()],index = [name])\n",
    "    \n",
    "    imp = imp.append(a)\n",
    "    temp2 = temp2.append(a)\n",
    "    "
   ]
  },
  {
   "cell_type": "code",
   "execution_count": 384,
   "metadata": {},
   "outputs": [
    {
     "data": {
      "text/html": [
       "<div>\n",
       "<style scoped>\n",
       "    .dataframe tbody tr th:only-of-type {\n",
       "        vertical-align: middle;\n",
       "    }\n",
       "\n",
       "    .dataframe tbody tr th {\n",
       "        vertical-align: top;\n",
       "    }\n",
       "\n",
       "    .dataframe thead th {\n",
       "        text-align: right;\n",
       "    }\n",
       "</style>\n",
       "<table border=\"1\" class=\"dataframe\">\n",
       "  <thead>\n",
       "    <tr style=\"text-align: right;\">\n",
       "      <th></th>\n",
       "      <th>0</th>\n",
       "    </tr>\n",
       "  </thead>\n",
       "  <tbody>\n",
       "    <tr>\n",
       "      <th>area</th>\n",
       "      <td>0.037565</td>\n",
       "    </tr>\n",
       "    <tr>\n",
       "      <th>eqpdays</th>\n",
       "      <td>0.036955</td>\n",
       "    </tr>\n",
       "    <tr>\n",
       "      <th>avg3mou</th>\n",
       "      <td>0.029575</td>\n",
       "    </tr>\n",
       "    <tr>\n",
       "      <th>adjqty</th>\n",
       "      <td>0.027849</td>\n",
       "    </tr>\n",
       "    <tr>\n",
       "      <th>avg3qty</th>\n",
       "      <td>0.027726</td>\n",
       "    </tr>\n",
       "    <tr>\n",
       "      <th>ethnic</th>\n",
       "      <td>0.027513</td>\n",
       "    </tr>\n",
       "    <tr>\n",
       "      <th>totcalls</th>\n",
       "      <td>0.027404</td>\n",
       "    </tr>\n",
       "    <tr>\n",
       "      <th>mou_minute_n</th>\n",
       "      <td>0.027100</td>\n",
       "    </tr>\n",
       "    <tr>\n",
       "      <th>months</th>\n",
       "      <td>0.026856</td>\n",
       "    </tr>\n",
       "    <tr>\n",
       "      <th>hnd_price</th>\n",
       "      <td>0.026496</td>\n",
       "    </tr>\n",
       "  </tbody>\n",
       "</table>\n",
       "</div>"
      ],
      "text/plain": [
       "                     0\n",
       "area          0.037565\n",
       "eqpdays       0.036955\n",
       "avg3mou       0.029575\n",
       "adjqty        0.027849\n",
       "avg3qty       0.027726\n",
       "ethnic        0.027513\n",
       "totcalls      0.027404\n",
       "mou_minute_n  0.027100\n",
       "months        0.026856\n",
       "hnd_price     0.026496"
      ]
     },
     "execution_count": 384,
     "metadata": {},
     "output_type": "execute_result"
    }
   ],
   "source": [
    "imp.sort_values(by = [0],ascending=False).head(10)"
   ]
  },
  {
   "cell_type": "code",
   "execution_count": 67,
   "metadata": {},
   "outputs": [],
   "source": [
    "# Trying another model to check results\n",
    "from sklearn.ensemble import GradientBoostingClassifier"
   ]
  },
  {
   "cell_type": "code",
   "execution_count": 398,
   "metadata": {},
   "outputs": [],
   "source": [
    "from sklearn.metrics import accuracy_score"
   ]
  },
  {
   "cell_type": "code",
   "execution_count": 394,
   "metadata": {},
   "outputs": [],
   "source": [
    "clf = GradientBoostingClassifier(n_estimators=125,random_state=400)"
   ]
  },
  {
   "cell_type": "code",
   "execution_count": 395,
   "metadata": {},
   "outputs": [],
   "source": [
    "model = clf.fit(x_train,y_train)"
   ]
  },
  {
   "cell_type": "code",
   "execution_count": 396,
   "metadata": {},
   "outputs": [],
   "source": [
    "predic = clf.predict(x_test)"
   ]
  },
  {
   "cell_type": "code",
   "execution_count": 399,
   "metadata": {},
   "outputs": [
    {
     "data": {
      "text/plain": [
       "0.7670454545454546"
      ]
     },
     "execution_count": 399,
     "metadata": {},
     "output_type": "execute_result"
    }
   ],
   "source": [
    "accuracy_score(predic,y_test)"
   ]
  },
  {
   "cell_type": "code",
   "execution_count": 347,
   "metadata": {},
   "outputs": [
    {
     "data": {
      "text/plain": [
       "0.7670454545454546"
      ]
     },
     "execution_count": 347,
     "metadata": {},
     "output_type": "execute_result"
    }
   ],
   "source": [
    "clf.score(x_test,y_test)"
   ]
  },
  {
   "cell_type": "code",
   "execution_count": 386,
   "metadata": {},
   "outputs": [],
   "source": [
    "res = pd.DataFrame(clf.feature_importances_,index=X.columns.tolist())"
   ]
  },
  {
   "cell_type": "code",
   "execution_count": 387,
   "metadata": {},
   "outputs": [],
   "source": [
    "\n",
    "for k in range(0,data1.dtypes[data1.dtypes == object].shape[0]):\n",
    "    name = data1.dtypes[data1.dtypes == object].index[k]\n",
    "    j = len((data1.dtypes[data1.dtypes == object].index[k]))\n",
    "    \n",
    "    temp = pd.DataFrame()\n",
    "    for i in range(0,res.shape[0]):\n",
    "        if res.index.values[i][0:j] == data1.dtypes[data1.dtypes == object].index[k]:\n",
    "            temp = temp.append(res.loc[res.index.values[i]])\n",
    "            \n",
    "            \n",
    "    a = pd.DataFrame([temp.sum()],index = [name])\n",
    "    \n",
    "    res = res.append(a)\n",
    "            \n",
    "    \n",
    "    "
   ]
  },
  {
   "cell_type": "code",
   "execution_count": 392,
   "metadata": {},
   "outputs": [
    {
     "data": {
      "text/plain": [
       "0    0.012492\n",
       "Name: overage_rev_ratio, dtype: float64"
      ]
     },
     "execution_count": 392,
     "metadata": {},
     "output_type": "execute_result"
    }
   ],
   "source": [
    "imp.loc['overage_rev_ratio']"
   ]
  },
  {
   "cell_type": "code",
   "execution_count": 389,
   "metadata": {},
   "outputs": [
    {
     "data": {
      "text/html": [
       "<div>\n",
       "<style scoped>\n",
       "    .dataframe tbody tr th:only-of-type {\n",
       "        vertical-align: middle;\n",
       "    }\n",
       "\n",
       "    .dataframe tbody tr th {\n",
       "        vertical-align: top;\n",
       "    }\n",
       "\n",
       "    .dataframe thead th {\n",
       "        text-align: right;\n",
       "    }\n",
       "</style>\n",
       "<table border=\"1\" class=\"dataframe\">\n",
       "  <thead>\n",
       "    <tr style=\"text-align: right;\">\n",
       "      <th></th>\n",
       "      <th>0</th>\n",
       "    </tr>\n",
       "  </thead>\n",
       "  <tbody>\n",
       "    <tr>\n",
       "      <th>eqpdays</th>\n",
       "      <td>0.147357</td>\n",
       "    </tr>\n",
       "    <tr>\n",
       "      <th>months</th>\n",
       "      <td>0.082258</td>\n",
       "    </tr>\n",
       "    <tr>\n",
       "      <th>mou_minute_n</th>\n",
       "      <td>0.049840</td>\n",
       "    </tr>\n",
       "    <tr>\n",
       "      <th>totcalls</th>\n",
       "      <td>0.043223</td>\n",
       "    </tr>\n",
       "    <tr>\n",
       "      <th>owylis_vce_Range</th>\n",
       "      <td>0.035795</td>\n",
       "    </tr>\n",
       "    <tr>\n",
       "      <th>avg3mou</th>\n",
       "      <td>0.033130</td>\n",
       "    </tr>\n",
       "    <tr>\n",
       "      <th>uniqsubs</th>\n",
       "      <td>0.031588</td>\n",
       "    </tr>\n",
       "    <tr>\n",
       "      <th>mou_Mean</th>\n",
       "      <td>0.031407</td>\n",
       "    </tr>\n",
       "    <tr>\n",
       "      <th>ethnic</th>\n",
       "      <td>0.026364</td>\n",
       "    </tr>\n",
       "    <tr>\n",
       "      <th>hnd_price</th>\n",
       "      <td>0.025349</td>\n",
       "    </tr>\n",
       "    <tr>\n",
       "      <th>ccrndmou_Range</th>\n",
       "      <td>0.023103</td>\n",
       "    </tr>\n",
       "    <tr>\n",
       "      <th>adjqty</th>\n",
       "      <td>0.023092</td>\n",
       "    </tr>\n",
       "    <tr>\n",
       "      <th>avg3qty</th>\n",
       "      <td>0.021923</td>\n",
       "    </tr>\n",
       "    <tr>\n",
       "      <th>rev_Mean</th>\n",
       "      <td>0.020641</td>\n",
       "    </tr>\n",
       "    <tr>\n",
       "      <th>avg6qty</th>\n",
       "      <td>0.019879</td>\n",
       "    </tr>\n",
       "    <tr>\n",
       "      <th>avgqty</th>\n",
       "      <td>0.019558</td>\n",
       "    </tr>\n",
       "    <tr>\n",
       "      <th>totrev</th>\n",
       "      <td>0.018413</td>\n",
       "    </tr>\n",
       "    <tr>\n",
       "      <th>mou_opkv_Range</th>\n",
       "      <td>0.018397</td>\n",
       "    </tr>\n",
       "    <tr>\n",
       "      <th>avgrev</th>\n",
       "      <td>0.018235</td>\n",
       "    </tr>\n",
       "    <tr>\n",
       "      <th>roam_Mean</th>\n",
       "      <td>0.017870</td>\n",
       "    </tr>\n",
       "    <tr>\n",
       "      <th>da_Mean</th>\n",
       "      <td>0.017659</td>\n",
       "    </tr>\n",
       "    <tr>\n",
       "      <th>age1</th>\n",
       "      <td>0.017437</td>\n",
       "    </tr>\n",
       "    <tr>\n",
       "      <th>drop_vce_Mean</th>\n",
       "      <td>0.017009</td>\n",
       "    </tr>\n",
       "    <tr>\n",
       "      <th>adjmou</th>\n",
       "      <td>0.016616</td>\n",
       "    </tr>\n",
       "    <tr>\n",
       "      <th>avgmou</th>\n",
       "      <td>0.016174</td>\n",
       "    </tr>\n",
       "    <tr>\n",
       "      <th>area</th>\n",
       "      <td>0.015773</td>\n",
       "    </tr>\n",
       "    <tr>\n",
       "      <th>ethnic_O</th>\n",
       "      <td>0.014892</td>\n",
       "    </tr>\n",
       "    <tr>\n",
       "      <th>avg6mou</th>\n",
       "      <td>0.014433</td>\n",
       "    </tr>\n",
       "    <tr>\n",
       "      <th>callwait_Range</th>\n",
       "      <td>0.014384</td>\n",
       "    </tr>\n",
       "    <tr>\n",
       "      <th>opk_dat_Mean</th>\n",
       "      <td>0.011870</td>\n",
       "    </tr>\n",
       "    <tr>\n",
       "      <th>truck</th>\n",
       "      <td>0.011825</td>\n",
       "    </tr>\n",
       "    <tr>\n",
       "      <th>ovrmou_Mean</th>\n",
       "      <td>0.010797</td>\n",
       "    </tr>\n",
       "    <tr>\n",
       "      <th>comp_vce_Mean</th>\n",
       "      <td>0.010445</td>\n",
       "    </tr>\n",
       "    <tr>\n",
       "      <th>totmrc_Mean</th>\n",
       "      <td>0.010284</td>\n",
       "    </tr>\n",
       "    <tr>\n",
       "      <th>drop_blk_Mean</th>\n",
       "      <td>0.009502</td>\n",
       "    </tr>\n",
       "    <tr>\n",
       "      <th>prizm_social_one</th>\n",
       "      <td>0.009461</td>\n",
       "    </tr>\n",
       "    <tr>\n",
       "      <th>adjrev</th>\n",
       "      <td>0.009451</td>\n",
       "    </tr>\n",
       "    <tr>\n",
       "      <th>iwylis_vce_Mean</th>\n",
       "      <td>0.008972</td>\n",
       "    </tr>\n",
       "    <tr>\n",
       "      <th>da_Range</th>\n",
       "      <td>0.008383</td>\n",
       "    </tr>\n",
       "    <tr>\n",
       "      <th>age2</th>\n",
       "      <td>0.007876</td>\n",
       "    </tr>\n",
       "    <tr>\n",
       "      <th>refurb_new</th>\n",
       "      <td>0.007537</td>\n",
       "    </tr>\n",
       "    <tr>\n",
       "      <th>callwait_Mean</th>\n",
       "      <td>0.006446</td>\n",
       "    </tr>\n",
       "    <tr>\n",
       "      <th>custcare_Mean</th>\n",
       "      <td>0.006442</td>\n",
       "    </tr>\n",
       "    <tr>\n",
       "      <th>ethnic_Z</th>\n",
       "      <td>0.006205</td>\n",
       "    </tr>\n",
       "    <tr>\n",
       "      <th>asl_flag</th>\n",
       "      <td>0.005705</td>\n",
       "    </tr>\n",
       "    <tr>\n",
       "      <th>models</th>\n",
       "      <td>0.005616</td>\n",
       "    </tr>\n",
       "    <tr>\n",
       "      <th>refurb_new_N</th>\n",
       "      <td>0.004746</td>\n",
       "    </tr>\n",
       "    <tr>\n",
       "      <th>area_CHICAGO AREA</th>\n",
       "      <td>0.004119</td>\n",
       "    </tr>\n",
       "    <tr>\n",
       "      <th>asl_flag_N</th>\n",
       "      <td>0.003871</td>\n",
       "    </tr>\n",
       "    <tr>\n",
       "      <th>prizm_social_one_C</th>\n",
       "      <td>0.003275</td>\n",
       "    </tr>\n",
       "  </tbody>\n",
       "</table>\n",
       "</div>"
      ],
      "text/plain": [
       "                           0\n",
       "eqpdays             0.147357\n",
       "months              0.082258\n",
       "mou_minute_n        0.049840\n",
       "totcalls            0.043223\n",
       "owylis_vce_Range    0.035795\n",
       "avg3mou             0.033130\n",
       "uniqsubs            0.031588\n",
       "mou_Mean            0.031407\n",
       "ethnic              0.026364\n",
       "hnd_price           0.025349\n",
       "ccrndmou_Range      0.023103\n",
       "adjqty              0.023092\n",
       "avg3qty             0.021923\n",
       "rev_Mean            0.020641\n",
       "avg6qty             0.019879\n",
       "avgqty              0.019558\n",
       "totrev              0.018413\n",
       "mou_opkv_Range      0.018397\n",
       "avgrev              0.018235\n",
       "roam_Mean           0.017870\n",
       "da_Mean             0.017659\n",
       "age1                0.017437\n",
       "drop_vce_Mean       0.017009\n",
       "adjmou              0.016616\n",
       "avgmou              0.016174\n",
       "area                0.015773\n",
       "ethnic_O            0.014892\n",
       "avg6mou             0.014433\n",
       "callwait_Range      0.014384\n",
       "opk_dat_Mean        0.011870\n",
       "truck               0.011825\n",
       "ovrmou_Mean         0.010797\n",
       "comp_vce_Mean       0.010445\n",
       "totmrc_Mean         0.010284\n",
       "drop_blk_Mean       0.009502\n",
       "prizm_social_one    0.009461\n",
       "adjrev              0.009451\n",
       "iwylis_vce_Mean     0.008972\n",
       "da_Range            0.008383\n",
       "age2                0.007876\n",
       "refurb_new          0.007537\n",
       "callwait_Mean       0.006446\n",
       "custcare_Mean       0.006442\n",
       "ethnic_Z            0.006205\n",
       "asl_flag            0.005705\n",
       "models              0.005616\n",
       "refurb_new_N        0.004746\n",
       "area_CHICAGO AREA   0.004119\n",
       "asl_flag_N          0.003871\n",
       "prizm_social_one_C  0.003275"
      ]
     },
     "execution_count": 389,
     "metadata": {},
     "output_type": "execute_result"
    }
   ],
   "source": [
    "res.sort_values(by = [0],ascending=False).head(50)"
   ]
  },
  {
   "cell_type": "code",
   "execution_count": 384,
   "metadata": {
    "scrolled": true
   },
   "outputs": [
    {
     "data": {
      "text/html": [
       "<div>\n",
       "<style scoped>\n",
       "    .dataframe tbody tr th:only-of-type {\n",
       "        vertical-align: middle;\n",
       "    }\n",
       "\n",
       "    .dataframe tbody tr th {\n",
       "        vertical-align: top;\n",
       "    }\n",
       "\n",
       "    .dataframe thead th {\n",
       "        text-align: right;\n",
       "    }\n",
       "</style>\n",
       "<table border=\"1\" class=\"dataframe\">\n",
       "  <thead>\n",
       "    <tr style=\"text-align: right;\">\n",
       "      <th></th>\n",
       "      <th>0</th>\n",
       "    </tr>\n",
       "  </thead>\n",
       "  <tbody>\n",
       "    <tr>\n",
       "      <th>area</th>\n",
       "      <td>0.037565</td>\n",
       "    </tr>\n",
       "    <tr>\n",
       "      <th>eqpdays</th>\n",
       "      <td>0.036955</td>\n",
       "    </tr>\n",
       "    <tr>\n",
       "      <th>avg3mou</th>\n",
       "      <td>0.029575</td>\n",
       "    </tr>\n",
       "    <tr>\n",
       "      <th>adjqty</th>\n",
       "      <td>0.027849</td>\n",
       "    </tr>\n",
       "    <tr>\n",
       "      <th>avg3qty</th>\n",
       "      <td>0.027726</td>\n",
       "    </tr>\n",
       "    <tr>\n",
       "      <th>ethnic</th>\n",
       "      <td>0.027513</td>\n",
       "    </tr>\n",
       "    <tr>\n",
       "      <th>totcalls</th>\n",
       "      <td>0.027404</td>\n",
       "    </tr>\n",
       "    <tr>\n",
       "      <th>mou_minute_n</th>\n",
       "      <td>0.027100</td>\n",
       "    </tr>\n",
       "    <tr>\n",
       "      <th>months</th>\n",
       "      <td>0.026856</td>\n",
       "    </tr>\n",
       "    <tr>\n",
       "      <th>hnd_price</th>\n",
       "      <td>0.026496</td>\n",
       "    </tr>\n",
       "  </tbody>\n",
       "</table>\n",
       "</div>"
      ],
      "text/plain": [
       "                     0\n",
       "area          0.037565\n",
       "eqpdays       0.036955\n",
       "avg3mou       0.029575\n",
       "adjqty        0.027849\n",
       "avg3qty       0.027726\n",
       "ethnic        0.027513\n",
       "totcalls      0.027404\n",
       "mou_minute_n  0.027100\n",
       "months        0.026856\n",
       "hnd_price     0.026496"
      ]
     },
     "execution_count": 384,
     "metadata": {},
     "output_type": "execute_result"
    }
   ],
   "source": [
    "imp.sort_values(by = [0],ascending=False).head(10)"
   ]
  },
  {
   "cell_type": "code",
   "execution_count": null,
   "metadata": {},
   "outputs": [],
   "source": [
    "# Average monthly minutes of use over the previous three months\n",
    "\n",
    "# Billing adjusted total number of calls over the life of the customer\n",
    "\n",
    "# Average monthly number of calls over the previous three months\n",
    "\n",
    "# Total number of months in service\n",
    "\n",
    "# Total number of calls over the life of the customer\n",
    "\n",
    "\n"
   ]
  },
  {
   "cell_type": "code",
   "execution_count": 410,
   "metadata": {},
   "outputs": [],
   "source": [
    "from matplotlib.pyplot import scatter\n",
    "import matplotlib.pyplot as plt"
   ]
  },
  {
   "cell_type": "code",
   "execution_count": 429,
   "metadata": {},
   "outputs": [
    {
     "data": {
      "text/plain": [
       "Text(0, 0.5, 'totalcalls')"
      ]
     },
     "execution_count": 429,
     "metadata": {},
     "output_type": "execute_result"
    },
    {
     "data": {
      "image/png": "[encoded data removed]",
      "text/plain": [
       "<Figure size 432x288 with 1 Axes>"
      ]
     },
     "metadata": {
      "needs_background": "light"
     },
     "output_type": "display_data"
    }
   ],
   "source": [
    "plt.scatter(data1['totrev'],data1['totcalls'])\n",
    "plt.xlabel('Revenue')\n",
    "plt.ylabel('totalcalls')\n"
   ]
  },
  {
   "cell_type": "code",
   "execution_count": 433,
   "metadata": {},
   "outputs": [
    {
     "data": {
      "text/plain": [
       "Text(0, 0.5, 'Overage monthly')"
      ]
     },
     "execution_count": 433,
     "metadata": {},
     "output_type": "execute_result"
    },
    {
     "data": {
      "image/png": "[encoded data removed]",
      "text/plain": [
       "<Figure size 432x288 with 1 Axes>"
      ]
     },
     "metadata": {
      "needs_background": "light"
     },
     "output_type": "display_data"
    }
   ],
   "source": [
    "plt.scatter(data['totrev'],data['ovrmou_Mean'])\n",
    "plt.xlabel('Revenue')\n",
    "plt.ylabel('Overage monthly')"
   ]
  },
  {
   "cell_type": "code",
   "execution_count": 409,
   "metadata": {},
   "outputs": [
    {
     "data": {
      "text/plain": [
       "<matplotlib.collections.PathCollection at 0x1c55e084e10>"
      ]
     },
     "execution_count": 409,
     "metadata": {},
     "output_type": "execute_result"
    },
    {
     "data": {
      "image/png": "[encoded data removed]",
      "text/plain": [
       "<Figure size 432x288 with 1 Axes>"
      ]
     },
     "metadata": {
      "needs_background": "light"
     },
     "output_type": "display_data"
    }
   ],
   "source": [
    "scatter(data1['churn'],data1['avgrev'])"
   ]
  },
  {
   "cell_type": "code",
   "execution_count": 408,
   "metadata": {},
   "outputs": [
    {
     "data": {
      "text/plain": [
       "count    13259.000000\n",
       "mean        58.029555\n",
       "std         36.793601\n",
       "min          1.100000\n",
       "25%         35.340000\n",
       "50%         49.840000\n",
       "75%         70.065000\n",
       "max        902.380000\n",
       "Name: avgrev, dtype: float64"
      ]
     },
     "execution_count": 408,
     "metadata": {},
     "output_type": "execute_result"
    }
   ],
   "source": [
    "data['avgrev'].describe()"
   ]
  }
 ],
 "metadata": {
  "kernelspec": {
   "display_name": "Python 3",
   "language": "python",
   "name": "python3"
  },
  "language_info": {
   "codemirror_mode": {
    "name": "ipython",
    "version": 3
   },
   "file_extension": ".py",
   "mimetype": "text/x-python",
   "name": "python",
   "nbconvert_exporter": "python",
   "pygments_lexer": "ipython3",
   "version": "3.6.7"
  }
 },
 "nbformat": 4,
 "nbformat_minor": 2
}
